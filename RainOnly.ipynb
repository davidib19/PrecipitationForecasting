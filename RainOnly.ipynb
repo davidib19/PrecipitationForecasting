{
  "nbformat": 4,
  "nbformat_minor": 0,
  "metadata": {
    "colab": {
      "provenance": [],
      "gpuType": "T4",
      "authorship_tag": "ABX9TyP2tvYL7wlPVULSh1JY1bBV",
      "include_colab_link": true
    },
    "kernelspec": {
      "name": "python3",
      "display_name": "Python 3"
    },
    "language_info": {
      "name": "python"
    },
    "accelerator": "GPU"
  },
  "cells": [
    {
      "cell_type": "markdown",
      "metadata": {
        "id": "view-in-github",
        "colab_type": "text"
      },
      "source": [
        "<a href=\"https://colab.research.google.com/github/davidib19/PrecipitationForecasting/blob/master/RainOnly.ipynb\" target=\"_parent\"><img src=\"https://colab.research.google.com/assets/colab-badge.svg\" alt=\"Open In Colab\"/></a>"
      ]
    },
    {
      "cell_type": "code",
      "execution_count": 34,
      "metadata": {
        "id": "1D6o0kWSS1W6"
      },
      "outputs": [],
      "source": [
        "import tensorflow as tf\n",
        "import keras\n",
        "from keras import layers\n",
        "import os\n",
        "import pickle\n",
        "import numpy as np\n",
        "import xarray\n",
        "import matplotlib.pyplot as plt\n",
        "import h5py\n",
        "from sklearn.preprocessing import PowerTransformer, QuantileTransformer\n",
        "strategy = tf.distribute.MirroredStrategy()\n",
        "\n",
        "HEIGHT = 9\n",
        "WIDTH = 9\n",
        "INPUT_SHAPE = (None, 1, 72)\n",
        "OUTPUT_SHAPE = (None, 24)"
      ]
    },
    {
      "cell_type": "code",
      "source": [
        "X_train=np.load('/content/X_train.npy')\n",
        "y_train=np.load('/content/y_train.npy')\n"
      ],
      "metadata": {
        "id": "IIBJYQzsTy1J"
      },
      "execution_count": 35,
      "outputs": []
    },
    {
      "cell_type": "code",
      "source": [
        "print(X_train.shape)"
      ],
      "metadata": {
        "colab": {
          "base_uri": "https://localhost:8080/"
        },
        "id": "5WWLhprbrZm_",
        "outputId": "966beb62-94e7-4976-b5cf-346846bb678e"
      },
      "execution_count": 28,
      "outputs": [
        {
          "output_type": "stream",
          "name": "stdout",
          "text": [
            "(3366, 72, 9, 9, 7)\n"
          ]
        }
      ]
    },
    {
      "cell_type": "code",
      "source": [
        "X_train=X_train[:,:,3,3,3]"
      ],
      "metadata": {
        "id": "H9MChfMdrYua"
      },
      "execution_count": 36,
      "outputs": []
    },
    {
      "cell_type": "code",
      "source": [
        "X_train*=1000\n",
        "y_train*=1000"
      ],
      "metadata": {
        "id": "lRkmYjfhuT1y"
      },
      "execution_count": 37,
      "outputs": []
    },
    {
      "cell_type": "code",
      "source": [
        "X_train = X_train[:, np.newaxis, :]"
      ],
      "metadata": {
        "id": "N7pM3GwNvMTd"
      },
      "execution_count": 38,
      "outputs": []
    },
    {
      "cell_type": "code",
      "source": [
        "print(X_train.shape)"
      ],
      "metadata": {
        "colab": {
          "base_uri": "https://localhost:8080/"
        },
        "id": "ufz_KjVLvjoi",
        "outputId": "0808590a-c100-4d24-f7d6-d4ab176c02b0"
      },
      "execution_count": 32,
      "outputs": [
        {
          "output_type": "stream",
          "name": "stdout",
          "text": [
            "(3366, 1, 72)\n"
          ]
        }
      ]
    },
    {
      "cell_type": "code",
      "source": [
        "\n",
        "def find_means_and(data):\n",
        "    \"\"\"Normaliza los datos para que tengan media 0 y desviación estándar 1\"\"\"\n",
        "    means=np.zeros((9,9,7))\n",
        "    stds=np.zeros((9,9,7))\n",
        "    N=data[:,0,0,0].size\n",
        "    for v in range(7):\n",
        "      for i in range(9):\n",
        "        for j in range(9):\n",
        "            means[i,j,v]=np.sum(data[:,i,j,v])/N\n",
        "            stds[i,j,v]=np.std(data[:,i,j,v])\n",
        "\n",
        "    return means, stds\n",
        "\n",
        "def normalize(means,stds, Xdata):\n",
        "    for k in [0,2,4,5,6]:\n",
        "      for i in range(9):\n",
        "        for j in range(9):\n",
        "            Xdata[:, i, j, k] = (Xdata[ :, i, j, k] - means[i,j,k]) / stds[i,j,k]\n",
        "    for i in range(9):\n",
        "        for j in range(9):\n",
        "            Xdata[:, i, j, 1] = (Xdata[ :, i, j, 1] / means[i,j,1])\n",
        "    Xdata[:,i,j,3]*=1000\n",
        "\n",
        "\n",
        "    return Xdata\n",
        "means, stds= find_means_and(X_train)\n",
        "X_train=normalize(means,stds,X_train)\n",
        "y_train*=1000\n"
      ],
      "metadata": {
        "id": "0hPBp0E0T_Vf",
        "colab": {
          "base_uri": "https://localhost:8080/",
          "height": 366
        },
        "outputId": "e8c1a457-7cd4-4a5e-bac0-217672ae93d1"
      },
      "execution_count": 33,
      "outputs": [
        {
          "output_type": "error",
          "ename": "IndexError",
          "evalue": "ignored",
          "traceback": [
            "\u001b[0;31m---------------------------------------------------------------------------\u001b[0m",
            "\u001b[0;31mIndexError\u001b[0m                                Traceback (most recent call last)",
            "\u001b[0;32m<ipython-input-33-41535de568d0>\u001b[0m in \u001b[0;36m<cell line: 26>\u001b[0;34m()\u001b[0m\n\u001b[1;32m     24\u001b[0m \u001b[0;34m\u001b[0m\u001b[0m\n\u001b[1;32m     25\u001b[0m     \u001b[0;32mreturn\u001b[0m \u001b[0mXdata\u001b[0m\u001b[0;34m\u001b[0m\u001b[0;34m\u001b[0m\u001b[0m\n\u001b[0;32m---> 26\u001b[0;31m \u001b[0mmeans\u001b[0m\u001b[0;34m,\u001b[0m \u001b[0mstds\u001b[0m\u001b[0;34m=\u001b[0m \u001b[0mfind_means_and\u001b[0m\u001b[0;34m(\u001b[0m\u001b[0mX_train\u001b[0m\u001b[0;34m)\u001b[0m\u001b[0;34m\u001b[0m\u001b[0;34m\u001b[0m\u001b[0m\n\u001b[0m\u001b[1;32m     27\u001b[0m \u001b[0mX_train\u001b[0m\u001b[0;34m=\u001b[0m\u001b[0mnormalize\u001b[0m\u001b[0;34m(\u001b[0m\u001b[0mmeans\u001b[0m\u001b[0;34m,\u001b[0m\u001b[0mstds\u001b[0m\u001b[0;34m,\u001b[0m\u001b[0mX_train\u001b[0m\u001b[0;34m)\u001b[0m\u001b[0;34m\u001b[0m\u001b[0;34m\u001b[0m\u001b[0m\n\u001b[1;32m     28\u001b[0m \u001b[0my_train\u001b[0m\u001b[0;34m*=\u001b[0m\u001b[0;36m1000\u001b[0m\u001b[0;34m\u001b[0m\u001b[0;34m\u001b[0m\u001b[0m\n",
            "\u001b[0;32m<ipython-input-33-41535de568d0>\u001b[0m in \u001b[0;36mfind_means_and\u001b[0;34m(data)\u001b[0m\n\u001b[1;32m      3\u001b[0m     \u001b[0mmeans\u001b[0m\u001b[0;34m=\u001b[0m\u001b[0mnp\u001b[0m\u001b[0;34m.\u001b[0m\u001b[0mzeros\u001b[0m\u001b[0;34m(\u001b[0m\u001b[0;34m(\u001b[0m\u001b[0;36m9\u001b[0m\u001b[0;34m,\u001b[0m\u001b[0;36m9\u001b[0m\u001b[0;34m,\u001b[0m\u001b[0;36m7\u001b[0m\u001b[0;34m)\u001b[0m\u001b[0;34m)\u001b[0m\u001b[0;34m\u001b[0m\u001b[0;34m\u001b[0m\u001b[0m\n\u001b[1;32m      4\u001b[0m     \u001b[0mstds\u001b[0m\u001b[0;34m=\u001b[0m\u001b[0mnp\u001b[0m\u001b[0;34m.\u001b[0m\u001b[0mzeros\u001b[0m\u001b[0;34m(\u001b[0m\u001b[0;34m(\u001b[0m\u001b[0;36m9\u001b[0m\u001b[0;34m,\u001b[0m\u001b[0;36m9\u001b[0m\u001b[0;34m,\u001b[0m\u001b[0;36m7\u001b[0m\u001b[0;34m)\u001b[0m\u001b[0;34m)\u001b[0m\u001b[0;34m\u001b[0m\u001b[0;34m\u001b[0m\u001b[0m\n\u001b[0;32m----> 5\u001b[0;31m     \u001b[0mN\u001b[0m\u001b[0;34m=\u001b[0m\u001b[0mdata\u001b[0m\u001b[0;34m[\u001b[0m\u001b[0;34m:\u001b[0m\u001b[0;34m,\u001b[0m\u001b[0;36m0\u001b[0m\u001b[0;34m,\u001b[0m\u001b[0;36m0\u001b[0m\u001b[0;34m,\u001b[0m\u001b[0;36m0\u001b[0m\u001b[0;34m]\u001b[0m\u001b[0;34m.\u001b[0m\u001b[0msize\u001b[0m\u001b[0;34m\u001b[0m\u001b[0;34m\u001b[0m\u001b[0m\n\u001b[0m\u001b[1;32m      6\u001b[0m     \u001b[0;32mfor\u001b[0m \u001b[0mv\u001b[0m \u001b[0;32min\u001b[0m \u001b[0mrange\u001b[0m\u001b[0;34m(\u001b[0m\u001b[0;36m7\u001b[0m\u001b[0;34m)\u001b[0m\u001b[0;34m:\u001b[0m\u001b[0;34m\u001b[0m\u001b[0;34m\u001b[0m\u001b[0m\n\u001b[1;32m      7\u001b[0m       \u001b[0;32mfor\u001b[0m \u001b[0mi\u001b[0m \u001b[0;32min\u001b[0m \u001b[0mrange\u001b[0m\u001b[0;34m(\u001b[0m\u001b[0;36m9\u001b[0m\u001b[0;34m)\u001b[0m\u001b[0;34m:\u001b[0m\u001b[0;34m\u001b[0m\u001b[0;34m\u001b[0m\u001b[0m\n",
            "\u001b[0;31mIndexError\u001b[0m: too many indices for array: array is 3-dimensional, but 4 were indexed"
          ]
        }
      ]
    },
    {
      "cell_type": "code",
      "source": [
        "from collections import namedtuple\n",
        "\n",
        "class Conv2Plus1D(keras.layers.Layer):\n",
        "    def __init__(self, filters, kernel_size, padding,name=None,**kwargs):\n",
        "        \"\"\"\n",
        "        A sequence of convolutional layers that first apply the convolution operation over the\n",
        "        spatial dimensions, and then the temporal dimension.\n",
        "        \"\"\"\n",
        "        super(Conv2Plus1D, self).__init__(name=name)\n",
        "        self.filters=filters\n",
        "        self.kernel_size=kernel_size\n",
        "        self.padding=padding\n",
        "        super(Conv2Plus1D, self).__init__(**kwargs)\n",
        "\n",
        "        self.seq = keras.Sequential([\n",
        "            # Spatial decomposition\n",
        "            layers.Conv3D(filters=filters,\n",
        "                          kernel_size=(1, kernel_size[1], kernel_size[2]),\n",
        "                          padding=padding),\n",
        "            # Temporal decomposition\n",
        "            layers.Conv3D(filters=filters,\n",
        "                          kernel_size=(kernel_size[0], 1, 1),\n",
        "                          padding=padding)\n",
        "        ])\n",
        "\n",
        "    def call(self, x):\n",
        "        return self.seq(x)\n"
      ],
      "metadata": {
        "id": "N-aUKZTjUE0L"
      },
      "execution_count": null,
      "outputs": []
    },
    {
      "cell_type": "code",
      "source": [
        "from keras.src.layers import concatenate\n",
        "with strategy.scope():\n",
        "  input = tf.keras.Input(shape=INPUT_SHAPE[1:])\n",
        "\n",
        "  x = input\n",
        "  x = tf.keras.layers.Conv1D(filters=32, kernel_size=(8), padding='valid',data_format=\"channels_first\")(x)\n",
        "  x = tf.keras.activations.sigmoid(x)\n",
        "  x = tf.keras.layers.Conv1D(filters=18, kernel_size=(24), padding='valid',data_format=\"channels_first\")(x)\n",
        "  #x = layers.AveragePooling3D((1,2,2))(x)\n",
        "  x = layers.Flatten()(x)\n",
        "  x = layers.Dense(24)(x)\n",
        "  x = tf.keras.activations.relu(x)\n",
        "  x = keras.Model(inputs=input, outputs=x)\n",
        "\n",
        "\n",
        "  model = keras.Model(inputs=x.input, outputs=x.output)\n",
        "  #model.build(frames)\n",
        "  model.compile(loss='mean_squared_error',\n",
        "              optimizer=keras.optimizers.Adam(learning_rate=0.0001),\n",
        "               metrics=[tf.keras.metrics.RootMeanSquaredError()])\n",
        "history = model.fit(x=X_train,\n",
        "                    epochs=70,\n",
        "                    y=y_train, validation_split=0.2,batch_size=32)\n",
        "tf.keras.models.save_model(model, '/content/OnlyWeather.keras')\n"
      ],
      "metadata": {
        "id": "antnAn_OUKAt",
        "colab": {
          "base_uri": "https://localhost:8080/"
        },
        "outputId": "c4e831cb-eb48-4460-d076-31c2708f75a7"
      },
      "execution_count": 39,
      "outputs": [
        {
          "output_type": "stream",
          "name": "stdout",
          "text": [
            "Epoch 1/70\n",
            "85/85 [==============================] - 2s 10ms/step - loss: 0.3055 - root_mean_squared_error: 0.5527 - val_loss: 0.2921 - val_root_mean_squared_error: 0.5404\n",
            "Epoch 2/70\n",
            "85/85 [==============================] - 1s 10ms/step - loss: 0.2652 - root_mean_squared_error: 0.5149 - val_loss: 0.2894 - val_root_mean_squared_error: 0.5379\n",
            "Epoch 3/70\n",
            "85/85 [==============================] - 1s 10ms/step - loss: 0.2614 - root_mean_squared_error: 0.5113 - val_loss: 0.2848 - val_root_mean_squared_error: 0.5337\n",
            "Epoch 4/70\n",
            "85/85 [==============================] - 1s 11ms/step - loss: 0.2580 - root_mean_squared_error: 0.5080 - val_loss: 0.2828 - val_root_mean_squared_error: 0.5318\n",
            "Epoch 5/70\n",
            "85/85 [==============================] - 1s 10ms/step - loss: 0.2569 - root_mean_squared_error: 0.5069 - val_loss: 0.2873 - val_root_mean_squared_error: 0.5360\n",
            "Epoch 6/70\n",
            "85/85 [==============================] - 1s 9ms/step - loss: 0.2543 - root_mean_squared_error: 0.5043 - val_loss: 0.2800 - val_root_mean_squared_error: 0.5291\n",
            "Epoch 7/70\n",
            "85/85 [==============================] - 1s 8ms/step - loss: 0.2528 - root_mean_squared_error: 0.5028 - val_loss: 0.2908 - val_root_mean_squared_error: 0.5393\n",
            "Epoch 8/70\n",
            "85/85 [==============================] - 1s 7ms/step - loss: 0.2534 - root_mean_squared_error: 0.5034 - val_loss: 0.2799 - val_root_mean_squared_error: 0.5291\n",
            "Epoch 9/70\n",
            "85/85 [==============================] - 1s 6ms/step - loss: 0.2508 - root_mean_squared_error: 0.5008 - val_loss: 0.2811 - val_root_mean_squared_error: 0.5302\n",
            "Epoch 10/70\n",
            "85/85 [==============================] - 1s 7ms/step - loss: 0.2495 - root_mean_squared_error: 0.4995 - val_loss: 0.2782 - val_root_mean_squared_error: 0.5275\n",
            "Epoch 11/70\n",
            "85/85 [==============================] - 1s 7ms/step - loss: 0.2498 - root_mean_squared_error: 0.4998 - val_loss: 0.2779 - val_root_mean_squared_error: 0.5272\n",
            "Epoch 12/70\n",
            "85/85 [==============================] - 1s 7ms/step - loss: 0.2508 - root_mean_squared_error: 0.5008 - val_loss: 0.2785 - val_root_mean_squared_error: 0.5277\n",
            "Epoch 13/70\n",
            "85/85 [==============================] - 1s 7ms/step - loss: 0.2478 - root_mean_squared_error: 0.4978 - val_loss: 0.2759 - val_root_mean_squared_error: 0.5253\n",
            "Epoch 14/70\n",
            "85/85 [==============================] - 1s 7ms/step - loss: 0.2474 - root_mean_squared_error: 0.4974 - val_loss: 0.2763 - val_root_mean_squared_error: 0.5256\n",
            "Epoch 15/70\n",
            "85/85 [==============================] - 1s 7ms/step - loss: 0.2468 - root_mean_squared_error: 0.4968 - val_loss: 0.2748 - val_root_mean_squared_error: 0.5242\n",
            "Epoch 16/70\n",
            "85/85 [==============================] - 1s 7ms/step - loss: 0.2460 - root_mean_squared_error: 0.4960 - val_loss: 0.2735 - val_root_mean_squared_error: 0.5229\n",
            "Epoch 17/70\n",
            "85/85 [==============================] - 1s 7ms/step - loss: 0.2444 - root_mean_squared_error: 0.4944 - val_loss: 0.2731 - val_root_mean_squared_error: 0.5226\n",
            "Epoch 18/70\n",
            "85/85 [==============================] - 1s 7ms/step - loss: 0.2448 - root_mean_squared_error: 0.4948 - val_loss: 0.2768 - val_root_mean_squared_error: 0.5261\n",
            "Epoch 19/70\n",
            "85/85 [==============================] - 1s 7ms/step - loss: 0.2438 - root_mean_squared_error: 0.4938 - val_loss: 0.2712 - val_root_mean_squared_error: 0.5207\n",
            "Epoch 20/70\n",
            "85/85 [==============================] - 1s 7ms/step - loss: 0.2443 - root_mean_squared_error: 0.4943 - val_loss: 0.2712 - val_root_mean_squared_error: 0.5208\n",
            "Epoch 21/70\n",
            "85/85 [==============================] - 1s 7ms/step - loss: 0.2427 - root_mean_squared_error: 0.4926 - val_loss: 0.2727 - val_root_mean_squared_error: 0.5222\n",
            "Epoch 22/70\n",
            "85/85 [==============================] - 1s 8ms/step - loss: 0.2408 - root_mean_squared_error: 0.4908 - val_loss: 0.2706 - val_root_mean_squared_error: 0.5202\n",
            "Epoch 23/70\n",
            "85/85 [==============================] - 1s 10ms/step - loss: 0.2403 - root_mean_squared_error: 0.4902 - val_loss: 0.2716 - val_root_mean_squared_error: 0.5211\n",
            "Epoch 24/70\n",
            "85/85 [==============================] - 1s 10ms/step - loss: 0.2404 - root_mean_squared_error: 0.4903 - val_loss: 0.2692 - val_root_mean_squared_error: 0.5188\n",
            "Epoch 25/70\n",
            "85/85 [==============================] - 1s 11ms/step - loss: 0.2380 - root_mean_squared_error: 0.4879 - val_loss: 0.2677 - val_root_mean_squared_error: 0.5174\n",
            "Epoch 26/70\n",
            "85/85 [==============================] - 1s 11ms/step - loss: 0.2372 - root_mean_squared_error: 0.4870 - val_loss: 0.2664 - val_root_mean_squared_error: 0.5161\n",
            "Epoch 27/70\n",
            "85/85 [==============================] - 1s 7ms/step - loss: 0.2379 - root_mean_squared_error: 0.4878 - val_loss: 0.2673 - val_root_mean_squared_error: 0.5170\n",
            "Epoch 28/70\n",
            "85/85 [==============================] - 1s 7ms/step - loss: 0.2365 - root_mean_squared_error: 0.4864 - val_loss: 0.2680 - val_root_mean_squared_error: 0.5177\n",
            "Epoch 29/70\n",
            "85/85 [==============================] - 1s 7ms/step - loss: 0.2357 - root_mean_squared_error: 0.4855 - val_loss: 0.2652 - val_root_mean_squared_error: 0.5149\n",
            "Epoch 30/70\n",
            "85/85 [==============================] - 1s 7ms/step - loss: 0.2354 - root_mean_squared_error: 0.4852 - val_loss: 0.2653 - val_root_mean_squared_error: 0.5151\n",
            "Epoch 31/70\n",
            "85/85 [==============================] - 1s 7ms/step - loss: 0.2345 - root_mean_squared_error: 0.4842 - val_loss: 0.2644 - val_root_mean_squared_error: 0.5142\n",
            "Epoch 32/70\n",
            "85/85 [==============================] - 1s 7ms/step - loss: 0.2352 - root_mean_squared_error: 0.4850 - val_loss: 0.2639 - val_root_mean_squared_error: 0.5138\n",
            "Epoch 33/70\n",
            "85/85 [==============================] - 1s 7ms/step - loss: 0.2337 - root_mean_squared_error: 0.4834 - val_loss: 0.2676 - val_root_mean_squared_error: 0.5173\n",
            "Epoch 34/70\n",
            "85/85 [==============================] - 1s 7ms/step - loss: 0.2344 - root_mean_squared_error: 0.4841 - val_loss: 0.2640 - val_root_mean_squared_error: 0.5138\n",
            "Epoch 35/70\n",
            "85/85 [==============================] - 1s 7ms/step - loss: 0.2333 - root_mean_squared_error: 0.4831 - val_loss: 0.2642 - val_root_mean_squared_error: 0.5140\n",
            "Epoch 36/70\n",
            "85/85 [==============================] - 1s 8ms/step - loss: 0.2335 - root_mean_squared_error: 0.4832 - val_loss: 0.2636 - val_root_mean_squared_error: 0.5134\n",
            "Epoch 37/70\n",
            "85/85 [==============================] - 1s 8ms/step - loss: 0.2355 - root_mean_squared_error: 0.4852 - val_loss: 0.2633 - val_root_mean_squared_error: 0.5132\n",
            "Epoch 38/70\n",
            "85/85 [==============================] - 1s 6ms/step - loss: 0.2329 - root_mean_squared_error: 0.4826 - val_loss: 0.2656 - val_root_mean_squared_error: 0.5154\n",
            "Epoch 39/70\n",
            "85/85 [==============================] - 1s 7ms/step - loss: 0.2334 - root_mean_squared_error: 0.4831 - val_loss: 0.2634 - val_root_mean_squared_error: 0.5132\n",
            "Epoch 40/70\n",
            "85/85 [==============================] - 1s 8ms/step - loss: 0.2321 - root_mean_squared_error: 0.4817 - val_loss: 0.2623 - val_root_mean_squared_error: 0.5121\n",
            "Epoch 41/70\n",
            "85/85 [==============================] - 1s 7ms/step - loss: 0.2326 - root_mean_squared_error: 0.4823 - val_loss: 0.2624 - val_root_mean_squared_error: 0.5123\n",
            "Epoch 42/70\n",
            "85/85 [==============================] - 1s 7ms/step - loss: 0.2321 - root_mean_squared_error: 0.4818 - val_loss: 0.2624 - val_root_mean_squared_error: 0.5122\n",
            "Epoch 43/70\n",
            "85/85 [==============================] - 1s 9ms/step - loss: 0.2315 - root_mean_squared_error: 0.4811 - val_loss: 0.2610 - val_root_mean_squared_error: 0.5109\n",
            "Epoch 44/70\n",
            "85/85 [==============================] - 1s 10ms/step - loss: 0.2311 - root_mean_squared_error: 0.4808 - val_loss: 0.2618 - val_root_mean_squared_error: 0.5117\n",
            "Epoch 45/70\n",
            "85/85 [==============================] - 1s 11ms/step - loss: 0.2308 - root_mean_squared_error: 0.4804 - val_loss: 0.2629 - val_root_mean_squared_error: 0.5128\n",
            "Epoch 46/70\n",
            "85/85 [==============================] - 1s 10ms/step - loss: 0.2304 - root_mean_squared_error: 0.4800 - val_loss: 0.2611 - val_root_mean_squared_error: 0.5110\n",
            "Epoch 47/70\n",
            "85/85 [==============================] - 1s 9ms/step - loss: 0.2307 - root_mean_squared_error: 0.4803 - val_loss: 0.2605 - val_root_mean_squared_error: 0.5104\n",
            "Epoch 48/70\n",
            "85/85 [==============================] - 1s 7ms/step - loss: 0.2303 - root_mean_squared_error: 0.4799 - val_loss: 0.2623 - val_root_mean_squared_error: 0.5122\n",
            "Epoch 49/70\n",
            "85/85 [==============================] - 1s 7ms/step - loss: 0.2311 - root_mean_squared_error: 0.4807 - val_loss: 0.2609 - val_root_mean_squared_error: 0.5108\n",
            "Epoch 50/70\n",
            "85/85 [==============================] - 1s 8ms/step - loss: 0.2296 - root_mean_squared_error: 0.4792 - val_loss: 0.2613 - val_root_mean_squared_error: 0.5111\n",
            "Epoch 51/70\n",
            "85/85 [==============================] - 1s 7ms/step - loss: 0.2295 - root_mean_squared_error: 0.4791 - val_loss: 0.2611 - val_root_mean_squared_error: 0.5110\n",
            "Epoch 52/70\n",
            "85/85 [==============================] - 1s 8ms/step - loss: 0.2296 - root_mean_squared_error: 0.4792 - val_loss: 0.2602 - val_root_mean_squared_error: 0.5101\n",
            "Epoch 53/70\n",
            "85/85 [==============================] - 1s 8ms/step - loss: 0.2295 - root_mean_squared_error: 0.4790 - val_loss: 0.2601 - val_root_mean_squared_error: 0.5100\n",
            "Epoch 54/70\n",
            "85/85 [==============================] - 1s 7ms/step - loss: 0.2295 - root_mean_squared_error: 0.4791 - val_loss: 0.2614 - val_root_mean_squared_error: 0.5113\n",
            "Epoch 55/70\n",
            "85/85 [==============================] - 1s 6ms/step - loss: 0.2293 - root_mean_squared_error: 0.4788 - val_loss: 0.2636 - val_root_mean_squared_error: 0.5135\n",
            "Epoch 56/70\n",
            "85/85 [==============================] - 1s 7ms/step - loss: 0.2304 - root_mean_squared_error: 0.4800 - val_loss: 0.2599 - val_root_mean_squared_error: 0.5098\n",
            "Epoch 57/70\n",
            "85/85 [==============================] - 1s 7ms/step - loss: 0.2291 - root_mean_squared_error: 0.4786 - val_loss: 0.2643 - val_root_mean_squared_error: 0.5141\n",
            "Epoch 58/70\n",
            "85/85 [==============================] - 1s 7ms/step - loss: 0.2296 - root_mean_squared_error: 0.4791 - val_loss: 0.2610 - val_root_mean_squared_error: 0.5109\n",
            "Epoch 59/70\n",
            "85/85 [==============================] - 1s 8ms/step - loss: 0.2295 - root_mean_squared_error: 0.4791 - val_loss: 0.2602 - val_root_mean_squared_error: 0.5101\n",
            "Epoch 60/70\n",
            "85/85 [==============================] - 1s 7ms/step - loss: 0.2282 - root_mean_squared_error: 0.4777 - val_loss: 0.2611 - val_root_mean_squared_error: 0.5109\n",
            "Epoch 61/70\n",
            "85/85 [==============================] - 1s 7ms/step - loss: 0.2286 - root_mean_squared_error: 0.4782 - val_loss: 0.2609 - val_root_mean_squared_error: 0.5108\n",
            "Epoch 62/70\n",
            "85/85 [==============================] - 1s 7ms/step - loss: 0.2286 - root_mean_squared_error: 0.4781 - val_loss: 0.2604 - val_root_mean_squared_error: 0.5103\n",
            "Epoch 63/70\n",
            "85/85 [==============================] - 1s 8ms/step - loss: 0.2283 - root_mean_squared_error: 0.4778 - val_loss: 0.2600 - val_root_mean_squared_error: 0.5099\n",
            "Epoch 64/70\n",
            "85/85 [==============================] - 1s 11ms/step - loss: 0.2285 - root_mean_squared_error: 0.4780 - val_loss: 0.2598 - val_root_mean_squared_error: 0.5097\n",
            "Epoch 65/70\n",
            "85/85 [==============================] - 1s 10ms/step - loss: 0.2284 - root_mean_squared_error: 0.4779 - val_loss: 0.2642 - val_root_mean_squared_error: 0.5140\n",
            "Epoch 66/70\n",
            "85/85 [==============================] - 1s 11ms/step - loss: 0.2290 - root_mean_squared_error: 0.4786 - val_loss: 0.2596 - val_root_mean_squared_error: 0.5095\n",
            "Epoch 67/70\n",
            "85/85 [==============================] - 1s 10ms/step - loss: 0.2282 - root_mean_squared_error: 0.4777 - val_loss: 0.2617 - val_root_mean_squared_error: 0.5115\n",
            "Epoch 68/70\n",
            "85/85 [==============================] - 1s 8ms/step - loss: 0.2273 - root_mean_squared_error: 0.4768 - val_loss: 0.2603 - val_root_mean_squared_error: 0.5102\n",
            "Epoch 69/70\n",
            "85/85 [==============================] - 1s 7ms/step - loss: 0.2278 - root_mean_squared_error: 0.4773 - val_loss: 0.2599 - val_root_mean_squared_error: 0.5098\n",
            "Epoch 70/70\n",
            "85/85 [==============================] - 1s 8ms/step - loss: 0.2289 - root_mean_squared_error: 0.4785 - val_loss: 0.2598 - val_root_mean_squared_error: 0.5097\n"
          ]
        }
      ]
    },
    {
      "cell_type": "code",
      "source": [
        "X_test=np.load('/content/X_test.npy')\n",
        "y_test=np.load('/content/y_test.npy')\n",
        "X_test=X_test[:,:,3,3,3]*1000\n",
        "X_test=X_test[:, np.newaxis, :]\n",
        "y_test=y_test*1000\n"
      ],
      "metadata": {
        "id": "vsBVJOjPUmtx"
      },
      "execution_count": 40,
      "outputs": []
    },
    {
      "cell_type": "code",
      "source": [
        "def plot_history(history):\n",
        "    \"\"\"\n",
        "    Plotting training and validation learning curves.\n",
        "\n",
        "    Args:\n",
        "      history: model history with all the metric measures\n",
        "  \"\"\"\n",
        "\n",
        "    # Plot loss\n",
        "    plt.title('Loss')\n",
        "    plt.plot(history.history['loss'], label='train')\n",
        "    plt.plot(history.history['val_loss'], label='test')\n",
        "    plt.ylabel('Loss')\n",
        "\n",
        "\n",
        "    # Determine upper bound of y-axis\n",
        "    max_loss = max(history.history['loss'] + history.history['val_loss'])\n",
        "\n",
        "    plt.ylim([0, max_loss])\n",
        "    plt.xlabel('Epoch')\n",
        "    plt.legend(['Train', 'Validation'])\n",
        "\n",
        "    # Plot accuracy\n",
        "    #ax2.set_title('Root')\n",
        "    #ax2.plot(history.history['accuracy'], label='train')\n",
        "    #ax2.plot(history.history['val_accuracy'], label='test')\n",
        "    #ax2.set_ylabel('Accuracy')\n",
        "    #ax2.set_ylim([0, max(history.history['accuracy']+history.history['val_accuracy'])])\n",
        "    #ax2.set_xlabel('Epoch')\n",
        "    #ax2.legend(['Train', 'Validation'])\n",
        "\n",
        "    plt.show()\n",
        "\n",
        "\n",
        "plot_history(history)\n"
      ],
      "metadata": {
        "id": "cDLBYGzoUziL",
        "colab": {
          "base_uri": "https://localhost:8080/",
          "height": 472
        },
        "outputId": "a3c6a68b-9d33-4879-89a8-ffbb83c37015"
      },
      "execution_count": 41,
      "outputs": [
        {
          "output_type": "display_data",
          "data": {
            "text/plain": [
              "<Figure size 640x480 with 1 Axes>"
            ],
            "image/png": "[encoded data removed]"
          },
          "metadata": {}
        }
      ]
    },
    {
      "cell_type": "code",
      "source": [
        "y_predicted=model.predict(X_test)"
      ],
      "metadata": {
        "id": "iGtlJFY_U3b9",
        "colab": {
          "base_uri": "https://localhost:8080/"
        },
        "outputId": "da583d2d-0705-4aca-83ac-6eb450732d3b"
      },
      "execution_count": 42,
      "outputs": [
        {
          "output_type": "stream",
          "name": "stdout",
          "text": [
            "23/23 [==============================] - 0s 4ms/step\n"
          ]
        }
      ]
    },
    {
      "cell_type": "code",
      "source": [
        "plt.xlabel('Tiempo (horas)')\n",
        "plt.ylabel('milimetros de lluvia')\n",
        "plt.plot(y_test[120],label='medicion')\n",
        "plt.plot(y_predicted[120],label='preciccion')\n",
        "plt.legend()\n",
        "plt.show()"
      ],
      "metadata": {
        "id": "mzn4uRx8U74Z",
        "colab": {
          "base_uri": "https://localhost:8080/",
          "height": 449
        },
        "outputId": "641b6c86-63e2-4488-a88e-9454ff1e0293"
      },
      "execution_count": 48,
      "outputs": [
        {
          "output_type": "display_data",
          "data": {
            "text/plain": [
              "<Figure size 640x480 with 1 Axes>"
            ],
            "image/png": "[encoded data removed]"
          },
          "metadata": {}
        }
      ]
    },
    {
      "cell_type": "code",
      "source": [
        "import math\n",
        "MSE = np.square(np.subtract(y_test,y_predicted)).mean()\n",
        "\n",
        "RMSE = math.sqrt(MSE)\n",
        "print(\"Root Mean Square Error:\\n\")\n",
        "print(RMSE)"
      ],
      "metadata": {
        "id": "GpoEZ72TVB0D",
        "colab": {
          "base_uri": "https://localhost:8080/"
        },
        "outputId": "416ada19-af3f-43bd-8737-56f154e3be8d"
      },
      "execution_count": 46,
      "outputs": [
        {
          "output_type": "stream",
          "name": "stdout",
          "text": [
            "Root Mean Square Error:\n",
            "\n",
            "0.5023972739364383\n"
          ]
        }
      ]
    }
  ]
}